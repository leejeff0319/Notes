{
 "cells": [
  {
   "cell_type": "markdown",
   "id": "47056fa5",
   "metadata": {},
   "source": [
    "# Gradient Descent Numpy"
   ]
  },
  {
   "cell_type": "code",
   "execution_count": 1,
   "id": "51ce8a60",
   "metadata": {},
   "outputs": [],
   "source": [
    "import numpy as np"
   ]
  },
  {
   "cell_type": "code",
   "execution_count": 2,
   "id": "0a78ed09",
   "metadata": {},
   "outputs": [],
   "source": [
    "# f = w * x\n",
    "\n",
    "# f = 2* x"
   ]
  },
  {
   "cell_type": "code",
   "execution_count": 3,
   "id": "08212d2d",
   "metadata": {},
   "outputs": [],
   "source": [
    "X = np.array([1,2,3,4], dtype=np.float32)"
   ]
  },
  {
   "cell_type": "code",
   "execution_count": 4,
   "id": "c7450c0e",
   "metadata": {},
   "outputs": [],
   "source": [
    "Y = np.array([2,4,6,8], dtype=np.float32)"
   ]
  },
  {
   "cell_type": "code",
   "execution_count": 5,
   "id": "35925cf5",
   "metadata": {},
   "outputs": [],
   "source": [
    "w = 0.0"
   ]
  },
  {
   "cell_type": "code",
   "execution_count": 6,
   "id": "5bfccb02",
   "metadata": {},
   "outputs": [],
   "source": [
    "# model prediction\n",
    "def forward (x):\n",
    "    return w * x"
   ]
  },
  {
   "cell_type": "code",
   "execution_count": 8,
   "id": "303a673c",
   "metadata": {},
   "outputs": [],
   "source": [
    "# loss = MSE\n",
    "def loss(y,y_predicted):\n",
    "    return ((y_predicted-y)**2).mean()"
   ]
  },
  {
   "cell_type": "code",
   "execution_count": 12,
   "id": "2d9f09e2",
   "metadata": {},
   "outputs": [],
   "source": [
    "# gradient\n",
    "# MSE = 1/N * (w*x -y)**2\n",
    "# dJ/dw = 1/N * 2x (w*x-y)\n",
    "def gradient(x, y, y_predicted):\n",
    "    return np.dot(2*x, y_predicted -y).mean()"
   ]
  },
  {
   "cell_type": "code",
   "execution_count": 13,
   "id": "e1212c10",
   "metadata": {},
   "outputs": [
    {
     "name": "stdout",
     "output_type": "stream",
     "text": [
      "Prediction before training: f(5) = 0.000\n"
     ]
    }
   ],
   "source": [
    "print(f'Prediction before training: f(5) = {forward(5):.3f}')"
   ]
  },
  {
   "cell_type": "code",
   "execution_count": 17,
   "id": "8bcc89b8",
   "metadata": {},
   "outputs": [
    {
     "name": "stdout",
     "output_type": "stream",
     "text": [
      "epoch 1: w= 2.000, loss = 0.00000000\n",
      "epoch 3: w= 2.000, loss = 0.00000000\n",
      "epoch 5: w= 2.000, loss = 0.00000000\n",
      "epoch 7: w= 2.000, loss = 0.00000000\n",
      "epoch 9: w= 2.000, loss = 0.00000000\n",
      "epoch 11: w= 2.000, loss = 0.00000000\n",
      "epoch 13: w= 2.000, loss = 0.00000000\n",
      "epoch 15: w= 2.000, loss = 0.00000000\n",
      "epoch 17: w= 2.000, loss = 0.00000000\n",
      "epoch 19: w= 2.000, loss = 0.00000000\n",
      "epoch 21: w= 2.000, loss = 0.00000000\n",
      "epoch 23: w= 2.000, loss = 0.00000000\n",
      "epoch 25: w= 2.000, loss = 0.00000000\n",
      "epoch 27: w= 2.000, loss = 0.00000000\n",
      "epoch 29: w= 2.000, loss = 0.00000000\n",
      "epoch 31: w= 2.000, loss = 0.00000000\n",
      "epoch 33: w= 2.000, loss = 0.00000000\n",
      "epoch 35: w= 2.000, loss = 0.00000000\n",
      "epoch 37: w= 2.000, loss = 0.00000000\n",
      "epoch 39: w= 2.000, loss = 0.00000000\n",
      "epoch 41: w= 2.000, loss = 0.00000000\n",
      "epoch 43: w= 2.000, loss = 0.00000000\n",
      "epoch 45: w= 2.000, loss = 0.00000000\n",
      "epoch 47: w= 2.000, loss = 0.00000000\n",
      "epoch 49: w= 2.000, loss = 0.00000000\n",
      "epoch 51: w= 2.000, loss = 0.00000000\n",
      "epoch 53: w= 2.000, loss = 0.00000000\n",
      "epoch 55: w= 2.000, loss = 0.00000000\n",
      "epoch 57: w= 2.000, loss = 0.00000000\n",
      "epoch 59: w= 2.000, loss = 0.00000000\n",
      "epoch 61: w= 2.000, loss = 0.00000000\n",
      "epoch 63: w= 2.000, loss = 0.00000000\n",
      "epoch 65: w= 2.000, loss = 0.00000000\n",
      "epoch 67: w= 2.000, loss = 0.00000000\n",
      "epoch 69: w= 2.000, loss = 0.00000000\n",
      "epoch 71: w= 2.000, loss = 0.00000000\n",
      "epoch 73: w= 2.000, loss = 0.00000000\n",
      "epoch 75: w= 2.000, loss = 0.00000000\n",
      "epoch 77: w= 2.000, loss = 0.00000000\n",
      "epoch 79: w= 2.000, loss = 0.00000000\n",
      "epoch 81: w= 2.000, loss = 0.00000000\n",
      "epoch 83: w= 2.000, loss = 0.00000000\n",
      "epoch 85: w= 2.000, loss = 0.00000000\n",
      "epoch 87: w= 2.000, loss = 0.00000000\n",
      "epoch 89: w= 2.000, loss = 0.00000000\n",
      "epoch 91: w= 2.000, loss = 0.00000000\n",
      "epoch 93: w= 2.000, loss = 0.00000000\n",
      "epoch 95: w= 2.000, loss = 0.00000000\n",
      "epoch 97: w= 2.000, loss = 0.00000000\n",
      "epoch 99: w= 2.000, loss = 0.00000000\n",
      "Prediction after training: f(5) = 10.000\n",
      "CPU times: total: 0 ns\n",
      "Wall time: 3 ms\n"
     ]
    }
   ],
   "source": [
    "%%time\n",
    "# Training\n",
    "learning_rate = 0.01\n",
    "n_iters = 100\n",
    "\n",
    "for epoch in range(n_iters):\n",
    "    # prediction = forward pass\n",
    "    y_pred = forward(X)\n",
    "    \n",
    "    #loss\n",
    "    l = loss(Y, y_pred)\n",
    "    \n",
    "    # gradients\n",
    "    dw = gradient(X, Y, y_pred)\n",
    "    \n",
    "    # update weights\n",
    "    w -= learning_rate * dw\n",
    "    \n",
    "    if epoch % 2 == 0:\n",
    "        print(f'epoch {epoch+1}: w= {w:.3f}, loss = {l:.8f}')\n",
    "        \n",
    "print(f'Prediction after training: f(5) = {forward(5):.3f}')"
   ]
  },
  {
   "cell_type": "markdown",
   "id": "7bfee3cf",
   "metadata": {},
   "source": [
    "# Gradient Descent PyTorch (Training Pipeline)"
   ]
  },
  {
   "cell_type": "code",
   "execution_count": 35,
   "id": "1b34c561",
   "metadata": {},
   "outputs": [],
   "source": [
    "# 1) Design model (input, output class, forward pass)\n",
    "# 2) Construct loss and optimizer\n",
    "# 3) Training loop\n",
    "#    - forward pass: compute prediction\n",
    "#    - backward pass: graidents\n",
    "#    - update weights"
   ]
  },
  {
   "cell_type": "code",
   "execution_count": 36,
   "id": "70e00c1e",
   "metadata": {},
   "outputs": [],
   "source": [
    "import torch\n",
    "import torch.nn as nn"
   ]
  },
  {
   "cell_type": "code",
   "execution_count": 37,
   "id": "66bc9839",
   "metadata": {},
   "outputs": [],
   "source": [
    "X = torch.tensor([[1],[2],[3],[4]], dtype=torch.float32)\n",
    "Y = torch.tensor([[2],[4],[6],[8]], dtype=torch.float32)"
   ]
  },
  {
   "cell_type": "code",
   "execution_count": 38,
   "id": "acd2cbba",
   "metadata": {},
   "outputs": [],
   "source": [
    "X_test = torch.tensor([5], dtype=torch.float32)"
   ]
  },
  {
   "cell_type": "code",
   "execution_count": 39,
   "id": "38287293",
   "metadata": {},
   "outputs": [
    {
     "name": "stdout",
     "output_type": "stream",
     "text": [
      "4 1\n"
     ]
    }
   ],
   "source": [
    "n_samples, n_features = X.shape\n",
    "print(n_samples, n_features)"
   ]
  },
  {
   "cell_type": "code",
   "execution_count": 40,
   "id": "4ae7eb9c",
   "metadata": {},
   "outputs": [],
   "source": [
    "input_size = n_features\n",
    "output_size = n_features\n",
    "\n",
    "#model = nn.Linear(input_size, output_size)"
   ]
  },
  {
   "cell_type": "code",
   "execution_count": 44,
   "id": "c4cd3d68",
   "metadata": {},
   "outputs": [],
   "source": [
    "class LinearRegression(nn.Module):\n",
    "    \n",
    "    def __init__(self, input_dim, output_dim):\n",
    "        super(LinearRegression, self).__init__()\n",
    "        # define layers\n",
    "        self.lin = nn.Linear(input_dim, output_dim)\n",
    "        \n",
    "    def forward(self, x):\n",
    "        return self.lin(x)\n",
    "    \n",
    "model = LinearRegression(input_size, output_size)"
   ]
  },
  {
   "cell_type": "code",
   "execution_count": 45,
   "id": "433a02c5",
   "metadata": {},
   "outputs": [
    {
     "name": "stdout",
     "output_type": "stream",
     "text": [
      "Prediction before training: f(5) = 2.258\n"
     ]
    }
   ],
   "source": [
    "print(f'Prediction before training: f(5) = {model(X_test).item():.3f}')"
   ]
  },
  {
   "cell_type": "code",
   "execution_count": 46,
   "id": "197dc1f2",
   "metadata": {},
   "outputs": [
    {
     "name": "stdout",
     "output_type": "stream",
     "text": [
      "epoch 1: w= 0.272, loss = 0.00000000\n",
      "epoch 11: w= 1.660, loss = 1.20158744\n",
      "epoch 21: w= 1.933, loss = 0.04657289\n",
      "epoch 31: w= 1.987, loss = 0.00180514\n",
      "epoch 41: w= 1.997, loss = 0.00006997\n",
      "epoch 51: w= 1.999, loss = 0.00000271\n",
      "epoch 61: w= 2.000, loss = 0.00000011\n",
      "epoch 71: w= 2.000, loss = 0.00000000\n",
      "epoch 81: w= 2.000, loss = 0.00000000\n",
      "epoch 91: w= 2.000, loss = 0.00000000\n",
      "Prediction after training: f(5) = 10.899\n",
      "CPU times: total: 15.6 ms\n",
      "Wall time: 14 ms\n"
     ]
    }
   ],
   "source": [
    "%%time\n",
    "# Training\n",
    "learning_rate = 0.01\n",
    "n_iters = 100\n",
    "\n",
    "loss = nn.MSELoss()\n",
    "optimizer = torch.optim.SGD(model.parameters(), lr=learning_rate)\n",
    "\n",
    "for epoch in range(n_iters):\n",
    "    # prediction = forward pass\n",
    "    y_pred = forward(X)\n",
    "    \n",
    "    #loss\n",
    "    l = loss(Y, y_pred)\n",
    "    \n",
    "    # gradients = backward pass\n",
    "    l.backward() # dl/dw\n",
    "    \n",
    "    # update weights\n",
    "    optimizer.step()\n",
    "    \n",
    "    #zero gradients\n",
    "    optimizer.zero_grad()\n",
    "    \n",
    "    if (epoch+1) % 10 == 0:\n",
    "        [w, b] = model.parameters()\n",
    "        print(f'epoch {epoch+1}: w= {w[0][0].item():.3f}, loss = {l:.8f}')\n",
    "        \n",
    "print(f'Prediction after training: f(5) = {model(X_test).item():.3f}')"
   ]
  },
  {
   "cell_type": "code",
   "execution_count": null,
   "id": "cb726d67",
   "metadata": {},
   "outputs": [],
   "source": []
  },
  {
   "cell_type": "code",
   "execution_count": null,
   "id": "b175c96d",
   "metadata": {},
   "outputs": [],
   "source": []
  }
 ],
 "metadata": {
  "kernelspec": {
   "display_name": "Python 3 (ipykernel)",
   "language": "python",
   "name": "python3"
  },
  "language_info": {
   "codemirror_mode": {
    "name": "ipython",
    "version": 3
   },
   "file_extension": ".py",
   "mimetype": "text/x-python",
   "name": "python",
   "nbconvert_exporter": "python",
   "pygments_lexer": "ipython3",
   "version": "3.11.4"
  }
 },
 "nbformat": 4,
 "nbformat_minor": 5
}
