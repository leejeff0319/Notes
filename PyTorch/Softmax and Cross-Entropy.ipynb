{
 "cells": [
  {
   "cell_type": "markdown",
   "id": "ee4fcda1",
   "metadata": {},
   "source": [
    "# Softmax Numpy"
   ]
  },
  {
   "cell_type": "code",
   "execution_count": 6,
   "id": "962145a6",
   "metadata": {},
   "outputs": [],
   "source": [
    "# output to be in between 0 to 1\n",
    "# scaling for neural networks"
   ]
  },
  {
   "cell_type": "code",
   "execution_count": 1,
   "id": "1bea7b0d",
   "metadata": {},
   "outputs": [],
   "source": [
    "import torch\n",
    "import torch.nn as nn\n",
    "import numpy as np"
   ]
  },
  {
   "cell_type": "code",
   "execution_count": 2,
   "id": "4ae111ce",
   "metadata": {},
   "outputs": [],
   "source": [
    "def softmax(x):\n",
    "    return np.exp(x) / np.sum(np.exp(x), axis=0)"
   ]
  },
  {
   "cell_type": "code",
   "execution_count": 4,
   "id": "4f1be60e",
   "metadata": {},
   "outputs": [
    {
     "name": "stdout",
     "output_type": "stream",
     "text": [
      "softmax numpy: [0.65900114 0.24243297 0.09856589]\n"
     ]
    }
   ],
   "source": [
    "x = np.array([2.0, 1.0, 0.1])\n",
    "outputs = softmax(x)\n",
    "print('softmax numpy:', outputs)"
   ]
  },
  {
   "cell_type": "markdown",
   "id": "30bc1827",
   "metadata": {},
   "source": [
    "# Softmax PyTorch"
   ]
  },
  {
   "cell_type": "code",
   "execution_count": 17,
   "id": "ae935b78",
   "metadata": {},
   "outputs": [
    {
     "name": "stdout",
     "output_type": "stream",
     "text": [
      "tensor([0.6590, 0.2424, 0.0986])\n"
     ]
    }
   ],
   "source": [
    "x = torch.tensor([2.0, 1.0, 0.1])\n",
    "outputs = torch.softmax(x, dim=0)\n",
    "print(outputs)"
   ]
  },
  {
   "cell_type": "markdown",
   "id": "fad6c744",
   "metadata": {},
   "source": [
    "# Cross Entropy Numpy"
   ]
  },
  {
   "cell_type": "code",
   "execution_count": 7,
   "id": "74a9f15b",
   "metadata": {},
   "outputs": [],
   "source": [
    "# measures the performance of classification model whose output is a probabilty between 0 and 1\n",
    "# can be used in multi-class problems\n",
    "# loss increases as the probability diverges from the actual label (bigger is worse prediction)"
   ]
  },
  {
   "cell_type": "code",
   "execution_count": 12,
   "id": "c0b3897b",
   "metadata": {},
   "outputs": [],
   "source": [
    "def cross_entropy(actual, predicted):\n",
    "    loss = -np.sum(actual * np.log(predicted))\n",
    "    return loss # / float(predicted.shape[0])"
   ]
  },
  {
   "cell_type": "code",
   "execution_count": 13,
   "id": "3ba09d86",
   "metadata": {},
   "outputs": [],
   "source": [
    "# y must be one hot encoded\n",
    "# if class 0: [1 0 0]\n",
    "# if class 1: [0 1 0]\n",
    "# if class 2: [0 0 1]\n",
    "Y = np.array([1, 0, 0])"
   ]
  },
  {
   "cell_type": "code",
   "execution_count": 15,
   "id": "f28471c0",
   "metadata": {},
   "outputs": [],
   "source": [
    "# y_pred has probabilities\n",
    "Y_pred_good = np.array([0.7, 0.2, 0.1])\n",
    "Y_pred_bad = np.array([0.1, 0.3, 0.6])\n",
    "l1 = cross_entropy(Y, Y_pred_good)\n",
    "l2 = cross_entropy(Y, Y_pred_bad)"
   ]
  },
  {
   "cell_type": "code",
   "execution_count": 16,
   "id": "d13776a8",
   "metadata": {},
   "outputs": [
    {
     "name": "stdout",
     "output_type": "stream",
     "text": [
      "Loss1 numpy: 0.3567\n",
      "Loss2 numpy: 2.3026\n"
     ]
    }
   ],
   "source": [
    "print(f'Loss1 numpy: {l1:.4f}')\n",
    "print(f'Loss2 numpy: {l2:.4f}')"
   ]
  },
  {
   "cell_type": "markdown",
   "id": "02acac01",
   "metadata": {},
   "source": [
    "# Cross Entropy PyTorch"
   ]
  },
  {
   "cell_type": "code",
   "execution_count": null,
   "id": "0c52593f",
   "metadata": {},
   "outputs": [],
   "source": [
    "# nn.CrossEntropyLoss applies (nn.LogSoftmax + nn.NLLLoss (negativev log likelhood loss))\n",
    "# We should not apply the softmax for ourselves in the last layer!\n",
    "\n",
    "# Y has class labels, must not be One-Hot encoded\n",
    "# Y_pred has raw scores (logits), so no Softmax!"
   ]
  },
  {
   "cell_type": "code",
   "execution_count": 21,
   "id": "f0cdceba",
   "metadata": {},
   "outputs": [],
   "source": [
    "loss = nn.CrossEntropyLoss()"
   ]
  },
  {
   "cell_type": "code",
   "execution_count": 34,
   "id": "f4d35185",
   "metadata": {},
   "outputs": [],
   "source": [
    "# 3 samples\n",
    "Y = torch.tensor([2, 0, 1])\n",
    "# nsamples x nclasses = 1x3\n",
    "Y_pred_good = torch.tensor([[0.1, 1.0, 2.1], [2.0, 1.0, 0.1], [2.0, 3.0, 0.1]]) # no softmax\n",
    "Y_pred_bad = torch.tensor([[2.1, 1.0, 0.1], [0.1, 1.0, 2.1], [0.1, 3.0, 0.1]])"
   ]
  },
  {
   "cell_type": "code",
   "execution_count": 38,
   "id": "b08cd431",
   "metadata": {},
   "outputs": [],
   "source": [
    "l1 = loss(Y_pred_good, Y)\n",
    "l2 = loss(Y_pred_bad, Y)"
   ]
  },
  {
   "cell_type": "code",
   "execution_count": 39,
   "id": "391081e6",
   "metadata": {},
   "outputs": [
    {
     "name": "stdout",
     "output_type": "stream",
     "text": [
      "0.38459011912345886\n",
      "1.6241613626480103\n"
     ]
    }
   ],
   "source": [
    "print(l1.item())\n",
    "print(l2.item())"
   ]
  },
  {
   "cell_type": "code",
   "execution_count": 40,
   "id": "ed3563fe",
   "metadata": {},
   "outputs": [],
   "source": [
    "_, predictions1 = torch.max(Y_pred_good, 1)\n",
    "_, predictions2 = torch.max(Y_pred_bad, 1)"
   ]
  },
  {
   "cell_type": "code",
   "execution_count": 41,
   "id": "9819b44c",
   "metadata": {},
   "outputs": [
    {
     "name": "stdout",
     "output_type": "stream",
     "text": [
      "tensor([2, 0, 1])\n",
      "tensor([0, 2, 1])\n"
     ]
    }
   ],
   "source": [
    "print(predictions1)\n",
    "print(predictions2)"
   ]
  },
  {
   "cell_type": "code",
   "execution_count": 42,
   "id": "0f02b8ac",
   "metadata": {},
   "outputs": [],
   "source": [
    "l1 = loss(Y_pred_good, Y)\n",
    "l2 = loss(Y_pred_bad, Y)"
   ]
  },
  {
   "cell_type": "code",
   "execution_count": 43,
   "id": "d4d07c5c",
   "metadata": {},
   "outputs": [
    {
     "name": "stdout",
     "output_type": "stream",
     "text": [
      "0.38459011912345886\n",
      "1.6241613626480103\n"
     ]
    }
   ],
   "source": [
    "print(l1.item())\n",
    "print(l2.item())"
   ]
  },
  {
   "cell_type": "code",
   "execution_count": null,
   "id": "6f99a66c",
   "metadata": {},
   "outputs": [],
   "source": []
  }
 ],
 "metadata": {
  "kernelspec": {
   "display_name": "Python 3 (ipykernel)",
   "language": "python",
   "name": "python3"
  },
  "language_info": {
   "codemirror_mode": {
    "name": "ipython",
    "version": 3
   },
   "file_extension": ".py",
   "mimetype": "text/x-python",
   "name": "python",
   "nbconvert_exporter": "python",
   "pygments_lexer": "ipython3",
   "version": "3.11.5"
  }
 },
 "nbformat": 4,
 "nbformat_minor": 5
}
