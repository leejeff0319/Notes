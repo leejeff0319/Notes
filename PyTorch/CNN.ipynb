{
 "cells": [
  {
   "cell_type": "markdown",
   "id": "47c158b9",
   "metadata": {},
   "source": [
    "# Convolutional Neural Networks"
   ]
  },
  {
   "cell_type": "markdown",
   "id": "08578686",
   "metadata": {},
   "source": [
    "<img style=\"float: left;\" src='CNN1.png' width=\"500\" height=\"400\">\n"
   ]
  },
  {
   "cell_type": "code",
   "execution_count": null,
   "id": "838bd729",
   "metadata": {},
   "outputs": [],
   "source": [
    "# Typical convolutional architecture\n",
    "# Different convolutional layers followed by optional activation functions followed by pooling layers\n",
    "# Used to automatically learn features from the images\n",
    "# One more more fully connected layers at the end for the actual classification task"
   ]
  },
  {
   "cell_type": "markdown",
   "id": "2c163525",
   "metadata": {},
   "source": [
    "<img style=\"float: left;\" src='CNN2.png' width=\"500\" height=\"400\">"
   ]
  },
  {
   "cell_type": "code",
   "execution_count": 1,
   "id": "1e3222a2",
   "metadata": {},
   "outputs": [],
   "source": [
    "# Work by applying a filter kernel to the image"
   ]
  },
  {
   "attachments": {},
   "cell_type": "markdown",
   "id": "daa0340e",
   "metadata": {},
   "source": [
    "<img style=\"float: left;\" src='CNN3.png' width=\"500\" height=\"400\">"
   ]
  },
  {
   "cell_type": "code",
   "execution_count": 2,
   "id": "0d6c5e22",
   "metadata": {},
   "outputs": [],
   "source": [
    "# Filter is applied to the first position of the image\n",
    "# Output value computed by multiplying and summing up all the values\n",
    "# Slide filter to the next position and repeat\n",
    "# Resulting image may be smaller size because filter doesn't fit on the corners\n",
    "# ^ can be avoided by a technique called \"padding\""
   ]
  },
  {
   "cell_type": "markdown",
   "id": "5b26e0f0",
   "metadata": {},
   "source": [
    "<img style=\"float: left;\" src='CNN4.png' width=\"500\" height=\"400\">"
   ]
  },
  {
   "cell_type": "code",
   "execution_count": null,
   "id": "f8c300f6",
   "metadata": {},
   "outputs": [],
   "source": [
    "# Max Pooling sued to downsize an image by applying a maximum filter to subregions\n",
    "# Reduces computational cost by reducing number of parameters the model has to learn\n",
    "# Helps to avoid overfitting by providing an abstracted form of the input"
   ]
  },
  {
   "cell_type": "markdown",
   "id": "306e2812",
   "metadata": {},
   "source": [
    "<img style=\"float: left;\" src='CNN5.png' width=\"500\" height=\"400\">"
   ]
  },
  {
   "cell_type": "markdown",
   "id": "3d57d529",
   "metadata": {},
   "source": [
    "# The Code"
   ]
  },
  {
   "cell_type": "code",
   "execution_count": 18,
   "id": "c375bd0b",
   "metadata": {},
   "outputs": [],
   "source": [
    "import torch\n",
    "import torch.nn as nn\n",
    "import torch.nn.functional as F\n",
    "import torchvision\n",
    "import torchvision.transforms as transforms\n",
    "import matplotlib.pyplot as plt\n",
    "import numpy as np"
   ]
  },
  {
   "cell_type": "code",
   "execution_count": 19,
   "id": "74e38a1b",
   "metadata": {},
   "outputs": [],
   "source": [
    "# Device\n",
    "device = torch.device('cude' if torch.cuda.is_available() else 'cpu')\n",
    "\n",
    "# Hyperparameters\n",
    "num_epochs = 4\n",
    "batch_size = 4\n",
    "learning_rate = 0.001"
   ]
  },
  {
   "cell_type": "code",
   "execution_count": 20,
   "id": "36904900",
   "metadata": {},
   "outputs": [
    {
     "name": "stdout",
     "output_type": "stream",
     "text": [
      "Files already downloaded and verified\n",
      "Files already downloaded and verified\n"
     ]
    }
   ],
   "source": [
    "# dataset has PILImage images of range [0,1].\n",
    "# We transform them to Tensors of normalized range [-1,1]\n",
    "transform = transforms.Compose(\n",
    "            [transforms.ToTensor(),\n",
    "             transforms.Normalize((0.5, 0.5, 0.5,), (0.5, 0.5, 0.5))])\n",
    "\n",
    "train_dataset = torchvision.datasets.CIFAR10(root='./data', train=True, download=True, transform=transform)\n",
    "test_dataset = torchvision.datasets.CIFAR10(root='./data', train=False, download=True, transform=transform)\n",
    "\n",
    "train_loader = torch.utils.data.DataLoader(train_dataset, batch_size=batch_size, shuffle=True)\n",
    "test_loader = torch.utils.data.DataLoader(test_dataset, batch_size=batch_size, shuffle=False)\n",
    "\n",
    "classes = ('plane', 'car', 'bird', 'cat', 'deer', 'dog', 'frog', 'horse', 'ship', 'truck')"
   ]
  },
  {
   "cell_type": "code",
   "execution_count": 25,
   "id": "778b1697",
   "metadata": {},
   "outputs": [
    {
     "data": {
      "image/png": "[encoded data removed]",
      "text/plain": [
       "<Figure size 640x480 with 1 Axes>"
      ]
     },
     "metadata": {},
     "output_type": "display_data"
    },
    {
     "name": "stdout",
     "output_type": "stream",
     "text": [
      "torch.Size([4, 3, 32, 32])\n",
      "torch.Size([4, 6, 28, 28])\n",
      "torch.Size([4, 6, 14, 14])\n",
      "torch.Size([4, 16, 10, 10])\n",
      "torch.Size([4, 16, 5, 5])\n"
     ]
    }
   ],
   "source": [
    "# Show images first \n",
    "\n",
    "num_epochs = 0\n",
    "batch_size = 4\n",
    "learning_rate = 0.001\n",
    "\n",
    "def imshow(img):\n",
    "    img = img / 2 + 0.5 #unnormalize\n",
    "    npimg = img.numpy()\n",
    "    plt.imshow(np.transpose(npimg, (1,2,0)))\n",
    "    plt.show()\n",
    "    \n",
    "# get some random training images\n",
    "dataiter = iter(train_loader)\n",
    "images, labels = next(dataiter)\n",
    "\n",
    "# show images\n",
    "imshow(torchvision.utils.make_grid(images))\n",
    "\n",
    "conv1 = nn.Conv2d(3, 6, 5)\n",
    "pool = nn.MaxPool2d(2, 2)\n",
    "conv2 = nn.Conv2d(6, 16, 5)\n",
    "print(images.shape)\n",
    "\n",
    "x = conv1(images)\n",
    "print(x.shape)\n",
    "x = pool(x)\n",
    "print(x.shape)\n",
    "x = conv2(x)\n",
    "print(x.shape)\n",
    "x = pool(x)\n",
    "print(x.shape) #torch.Size([4, 16, 5, 5])\n",
    "# 16x5x5 comes from here\n",
    "\n",
    "# reset\n",
    "num_epochs = 4\n",
    "batch_size = 4\n",
    "learning_rate = 0.001"
   ]
  },
  {
   "cell_type": "code",
   "execution_count": 35,
   "id": "e5f65df3",
   "metadata": {},
   "outputs": [],
   "source": [
    "# implement cov net\n",
    "class ConvNet(nn.Module):\n",
    "    def __init__(self):\n",
    "        super().__init__()\n",
    "        self.conv1 = nn.Conv2d(3, 6, 5)\n",
    "        self.pool = nn.MaxPool2d(2, 2)\n",
    "        self.conv2 = nn.Conv2d(6, 16, 5)\n",
    "        self.fc1 = nn.Linear(16*5*5, 120)\n",
    "        self.fc2 = nn.Linear(120, 84)\n",
    "        self.fc3 = nn.Linear(84, 10)\n",
    "    \n",
    "    def forward(self, x):\n",
    "        x = self.pool(F.relu(self.conv1(x)))\n",
    "        x = self.pool(F.relu(self.conv2(x)))\n",
    "        x = x.view(-1, 16*5*5) # in order to pass it to the first fully connected layer, we must flatten it\n",
    "        x = F.relu(self.fc1(x))\n",
    "        x = F.relu(self.fc2(x))\n",
    "        x = self.fc3(x)\n",
    "        return x"
   ]
  },
  {
   "cell_type": "code",
   "execution_count": 36,
   "id": "ff3a9d32",
   "metadata": {},
   "outputs": [],
   "source": [
    "model = ConvNet().to(device)\n",
    "\n",
    "criterion = nn.CrossEntropyLoss() #multiclass\n",
    "optimizer = torch. optim.SGD(model.parameters(), lr=learning_rate)"
   ]
  },
  {
   "cell_type": "code",
   "execution_count": 37,
   "id": "52c0405e",
   "metadata": {},
   "outputs": [
    {
     "name": "stdout",
     "output_type": "stream",
     "text": [
      "Epoch [1/4], Step [2000/12500], Loss: 2.3526\n",
      "Epoch [1/4], Step [4000/12500], Loss: 2.3047\n",
      "Epoch [1/4], Step [6000/12500], Loss: 2.2856\n",
      "Epoch [1/4], Step [8000/12500], Loss: 2.2747\n",
      "Epoch [1/4], Step [10000/12500], Loss: 2.2875\n",
      "Epoch [1/4], Step [12000/12500], Loss: 2.2920\n",
      "Epoch [2/4], Step [2000/12500], Loss: 2.2867\n",
      "Epoch [2/4], Step [4000/12500], Loss: 1.9846\n",
      "Epoch [2/4], Step [6000/12500], Loss: 2.1217\n",
      "Epoch [2/4], Step [8000/12500], Loss: 2.0565\n",
      "Epoch [2/4], Step [10000/12500], Loss: 2.1022\n",
      "Epoch [2/4], Step [12000/12500], Loss: 2.1817\n",
      "Epoch [3/4], Step [2000/12500], Loss: 2.1370\n",
      "Epoch [3/4], Step [4000/12500], Loss: 2.0192\n",
      "Epoch [3/4], Step [6000/12500], Loss: 1.8348\n",
      "Epoch [3/4], Step [8000/12500], Loss: 2.2730\n",
      "Epoch [3/4], Step [10000/12500], Loss: 1.7787\n",
      "Epoch [3/4], Step [12000/12500], Loss: 2.1420\n",
      "Epoch [4/4], Step [2000/12500], Loss: 1.3956\n",
      "Epoch [4/4], Step [4000/12500], Loss: 1.2469\n",
      "Epoch [4/4], Step [6000/12500], Loss: 2.0222\n",
      "Epoch [4/4], Step [8000/12500], Loss: 0.9932\n",
      "Epoch [4/4], Step [10000/12500], Loss: 1.1586\n",
      "Epoch [4/4], Step [12000/12500], Loss: 1.2097\n",
      "Finished Training\n",
      "CPU times: total: 9min 37s\n",
      "Wall time: 1min 37s\n"
     ]
    }
   ],
   "source": [
    "%%time\n",
    "n_total_steps = len(train_loader)\n",
    "\n",
    "for epoch in range(num_epochs):\n",
    "    for i, (images, labels) in enumerate(train_loader):\n",
    "        # original shape: [4, 3, 32, 32] = 4, 3, 1024\n",
    "        # input_layer: 3 input channels, 6 output channels, 5 kernel size\n",
    "        images = images.to(device)\n",
    "        labels = labels.to(device)\n",
    "        \n",
    "        # Forward pass\n",
    "        outputs = model(images)\n",
    "        loss = criterion(outputs, labels)\n",
    "        \n",
    "        # Backward and optimize\n",
    "        optimizer.zero_grad()\n",
    "        loss.backward()\n",
    "        optimizer.step()\n",
    "        \n",
    "        if (i+1) % 2000 == 0:\n",
    "            print(f'Epoch [{epoch+1}/{num_epochs}], Step [{i+1}/{n_total_steps}], Loss: {loss.item():.4f}')\n",
    "            \n",
    "print('Finished Training')"
   ]
  },
  {
   "cell_type": "code",
   "execution_count": 38,
   "id": "fb317782",
   "metadata": {},
   "outputs": [
    {
     "name": "stdout",
     "output_type": "stream",
     "text": [
      "Accuracy of the network: 44.86%\n",
      "Accuracy of plane: 25.9%\n",
      "Accuracy of car: 61.6%\n",
      "Accuracy of bird: 34.4%\n",
      "Accuracy of cat: 38.1%\n",
      "Accuracy of deer: 25.5%\n",
      "Accuracy of dog: 34.9%\n",
      "Accuracy of frog: 61.9%\n",
      "Accuracy of horse: 45.7%\n",
      "Accuracy of ship: 70.6%\n",
      "Accuracy of truck: 50.0%\n"
     ]
    }
   ],
   "source": [
    "with torch.no_grad():\n",
    "    n_correct = 0\n",
    "    n_samples = 0\n",
    "    n_class_correct = [0 for i in range(10)]\n",
    "    n_class_samples = [0 for i in range(10)]\n",
    "    for images, labels in test_loader:\n",
    "        images = images.to(device)\n",
    "        labels = labels.to(device)\n",
    "        outputs = model(images)\n",
    "        # max returns (value, index)\n",
    "        _, predicted = torch.max(outputs, 1)\n",
    "        n_samples += labels.size(0)\n",
    "        n_correct += (predicted == labels).sum().item()\n",
    "        \n",
    "        for i in range(batch_size):\n",
    "            label = labels[i]\n",
    "            pred = predicted[i]\n",
    "            if (label == pred):\n",
    "                n_class_correct[label] += 1\n",
    "            n_class_samples[label] += 1\n",
    "        \n",
    "    acc = 100.0 * n_correct / n_samples\n",
    "    print(f'Accuracy of the network: {acc}%')\n",
    "    \n",
    "    for i in range(10):\n",
    "        acc = 100.0 * n_class_correct[i] / n_class_samples[i]\n",
    "        print(f'Accuracy of {classes[i]}: {acc}%')"
   ]
  },
  {
   "cell_type": "code",
   "execution_count": null,
   "id": "1f5598d3",
   "metadata": {},
   "outputs": [],
   "source": []
  }
 ],
 "metadata": {
  "kernelspec": {
   "display_name": "Python 3 (ipykernel)",
   "language": "python",
   "name": "python3"
  },
  "language_info": {
   "codemirror_mode": {
    "name": "ipython",
    "version": 3
   },
   "file_extension": ".py",
   "mimetype": "text/x-python",
   "name": "python",
   "nbconvert_exporter": "python",
   "pygments_lexer": "ipython3",
   "version": "3.11.5"
  }
 },
 "nbformat": 4,
 "nbformat_minor": 5
}
