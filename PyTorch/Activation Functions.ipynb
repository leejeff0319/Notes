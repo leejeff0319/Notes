{
 "cells": [
  {
   "cell_type": "markdown",
   "id": "aeda152c",
   "metadata": {},
   "source": [
    "# Activation Function"
   ]
  },
  {
   "cell_type": "code",
   "execution_count": 1,
   "id": "3b839574",
   "metadata": {},
   "outputs": [],
   "source": [
    "# apply a non-linear transformation and decides whether a neuron should be activated or not\n",
    "# enables more complex training\n",
    "# apply after each layer"
   ]
  },
  {
   "cell_type": "code",
   "execution_count": 3,
   "id": "07e32883",
   "metadata": {},
   "outputs": [
    {
     "data": {
      "text/plain": [
       "\"\\nMost popular activation functions\\n\\n1. Step function\\n    - outputs 1 if x > 0\\n    - outputs 0 otherwise\\n    - not used in practice\\n2. Sigmoid\\n    - f(x) = 1/(1+e^-x)\\n    - typically in the last layer of a binary problem\\n3. TanH\\n    - basically a scaled sigmoid function\\n    - f(x) = 2/(1+e^(-2x)) -1)\\n    - outputs between -1 and 1\\n    - Used in Hidden Layers\\n4. ReLU\\n    - most popular choice in most of the networks\\n    - f(x) = max(0,x)\\n    - outputs 0 for values < 0\\n    - outputs x for all other x \\n    - nonlinear\\n    - very good choice for an activation function \\n    - if unsure which activation function to use, just use ReLU for hidden layers\\n5. Leaky ReLU\\n    - slightly modified, slightly improved version of the ReLu\\n    - still outputs x for all values > 0\\n    - outputs ax for values < 0\\n    - a is a very small value (for negative values)\\n    - tries to solve the vanishing gradient problem\\n    - if weights don't update during training, try using the Leaky ReLU function (dead neurons)\\n6. Softmax\\n    - outputs between 0 and 1\\n    - probability as an output\\n    - good in the last layer in multi class classification problems\\n\""
      ]
     },
     "execution_count": 3,
     "metadata": {},
     "output_type": "execute_result"
    }
   ],
   "source": [
    "'''\n",
    "Most popular activation functions\n",
    "\n",
    "1. Step function\n",
    "    - outputs 1 if x > 0\n",
    "    - outputs 0 otherwise\n",
    "    - not used in practice\n",
    "2. Sigmoid\n",
    "    - f(x) = 1/(1+e^-x)\n",
    "    - typically in the last layer of a binary problem\n",
    "3. TanH\n",
    "    - basically a scaled sigmoid function\n",
    "    - f(x) = 2/(1+e^(-2x)) -1)\n",
    "    - outputs between -1 and 1\n",
    "    - Used in Hidden Layers\n",
    "4. ReLU\n",
    "    - most popular choice in most of the networks\n",
    "    - f(x) = max(0,x)\n",
    "    - outputs 0 for values < 0\n",
    "    - outputs x for all other x \n",
    "    - nonlinear\n",
    "    - very good choice for an activation function \n",
    "    - if unsure which activation function to use, just use ReLU for hidden layers\n",
    "5. Leaky ReLU\n",
    "    - slightly modified, slightly improved version of the ReLu\n",
    "    - still outputs x for all values > 0\n",
    "    - outputs ax for values < 0\n",
    "    - a is a very small value (for negative values)\n",
    "    - tries to solve the vanishing gradient problem\n",
    "    - if weights don't update during training, try using the Leaky ReLU function (dead neurons)\n",
    "6. Softmax\n",
    "    - outputs between 0 and 1\n",
    "    - probability as an output\n",
    "    - good in the last layer in multi class classification problems\n",
    "'''"
   ]
  },
  {
   "cell_type": "code",
   "execution_count": 4,
   "id": "7ad62030",
   "metadata": {},
   "outputs": [],
   "source": [
    "import torch\n",
    "import torch.nn as nn\n",
    "import torch.nn.functional as F"
   ]
  },
  {
   "cell_type": "code",
   "execution_count": 5,
   "id": "85318de5",
   "metadata": {},
   "outputs": [],
   "source": [
    "# option 1 (create nn modules)\n",
    "class NeuralNet(nn.Module):\n",
    "    def __init__(self, input_size, hidden_size):\n",
    "        super(NeuralNet, self).__init__()\n",
    "        self.linear1 = nn.Linear(input_size, hidden_size)\n",
    "        self.relu = nn.ReLU()\n",
    "        self.linear2 = nn.Linear(hidden_size, 1)\n",
    "        self.sigmoid = nn.Sigmoid()\n",
    "        \n",
    "    def forward(self, x):\n",
    "        out = self.linear1(x)\n",
    "        out = self.relu(out)\n",
    "        out = self.linear2(out)\n",
    "        out = self.sigmoid(out)\n",
    "        \n",
    "        return out"
   ]
  },
  {
   "cell_type": "code",
   "execution_count": 6,
   "id": "c280de52",
   "metadata": {},
   "outputs": [],
   "source": [
    "# option 2 (use activation functions directly in forward pass)\n",
    "class NeuralNet(nn.Module):\n",
    "    def __init__(self, input_size, hidden_size):\n",
    "        super(NeuralNet, self).__init__()\n",
    "        self.linear1 = nn.Linear(input_size, hidden_size)\n",
    "        self.linear2 = nn.Linear(hidden_size, 1)\n",
    "        \n",
    "    def forward(self, x):\n",
    "        out = torch.relu(self.linear1(x))\n",
    "        out = torch.sigmoid(self.linear2(out))\n",
    "        \n",
    "        return out"
   ]
  },
  {
   "cell_type": "code",
   "execution_count": null,
   "id": "addefef4",
   "metadata": {},
   "outputs": [],
   "source": []
  }
 ],
 "metadata": {
  "kernelspec": {
   "display_name": "Python 3 (ipykernel)",
   "language": "python",
   "name": "python3"
  },
  "language_info": {
   "codemirror_mode": {
    "name": "ipython",
    "version": 3
   },
   "file_extension": ".py",
   "mimetype": "text/x-python",
   "name": "python",
   "nbconvert_exporter": "python",
   "pygments_lexer": "ipython3",
   "version": "3.11.5"
  }
 },
 "nbformat": 4,
 "nbformat_minor": 5
}
