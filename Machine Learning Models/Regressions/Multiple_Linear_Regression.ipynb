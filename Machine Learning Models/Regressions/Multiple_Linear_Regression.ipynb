{
 "cells": [
  {
   "cell_type": "markdown",
   "id": "23848159",
   "metadata": {},
   "source": [
    "# Multiple Linear Regression\n",
    "* Continuous dependent variable based on **two or more independent variables**"
   ]
  },
  {
   "cell_type": "code",
   "execution_count": 1,
   "id": "cc8578bb",
   "metadata": {},
   "outputs": [],
   "source": [
    "import pandas as pd\n",
    "import numpy as np\n",
    "import seaborn as sns"
   ]
  },
  {
   "cell_type": "code",
   "execution_count": 2,
   "id": "89541f11",
   "metadata": {},
   "outputs": [],
   "source": [
    "penguins = sns.load_dataset(\"penguins\")"
   ]
  },
  {
   "cell_type": "code",
   "execution_count": 3,
   "id": "dc6b0f76",
   "metadata": {},
   "outputs": [],
   "source": [
    "penguins = penguins[[\"body_mass_g\", \"bill_length_mm\", \"sex\", \"species\"]]\n",
    "penguins.columns = [\"body_mass_g\", \"bill_length_mm\", \"gender\", \"species\"]\n",
    "penguins.dropna(inplace=True)"
   ]
  },
  {
   "cell_type": "code",
   "execution_count": 4,
   "id": "9128aa75",
   "metadata": {},
   "outputs": [
    {
     "data": {
      "text/html": [
       "<div>\n",
       "<style scoped>\n",
       "    .dataframe tbody tr th:only-of-type {\n",
       "        vertical-align: middle;\n",
       "    }\n",
       "\n",
       "    .dataframe tbody tr th {\n",
       "        vertical-align: top;\n",
       "    }\n",
       "\n",
       "    .dataframe thead th {\n",
       "        text-align: right;\n",
       "    }\n",
       "</style>\n",
       "<table border=\"1\" class=\"dataframe\">\n",
       "  <thead>\n",
       "    <tr style=\"text-align: right;\">\n",
       "      <th></th>\n",
       "      <th>body_mass_g</th>\n",
       "      <th>bill_length_mm</th>\n",
       "      <th>gender</th>\n",
       "      <th>species</th>\n",
       "    </tr>\n",
       "  </thead>\n",
       "  <tbody>\n",
       "    <tr>\n",
       "      <th>0</th>\n",
       "      <td>3750.0</td>\n",
       "      <td>39.1</td>\n",
       "      <td>Male</td>\n",
       "      <td>Adelie</td>\n",
       "    </tr>\n",
       "    <tr>\n",
       "      <th>1</th>\n",
       "      <td>3800.0</td>\n",
       "      <td>39.5</td>\n",
       "      <td>Female</td>\n",
       "      <td>Adelie</td>\n",
       "    </tr>\n",
       "    <tr>\n",
       "      <th>2</th>\n",
       "      <td>3250.0</td>\n",
       "      <td>40.3</td>\n",
       "      <td>Female</td>\n",
       "      <td>Adelie</td>\n",
       "    </tr>\n",
       "    <tr>\n",
       "      <th>4</th>\n",
       "      <td>3450.0</td>\n",
       "      <td>36.7</td>\n",
       "      <td>Female</td>\n",
       "      <td>Adelie</td>\n",
       "    </tr>\n",
       "    <tr>\n",
       "      <th>5</th>\n",
       "      <td>3650.0</td>\n",
       "      <td>39.3</td>\n",
       "      <td>Male</td>\n",
       "      <td>Adelie</td>\n",
       "    </tr>\n",
       "  </tbody>\n",
       "</table>\n",
       "</div>"
      ],
      "text/plain": [
       "   body_mass_g  bill_length_mm  gender species\n",
       "0       3750.0            39.1    Male  Adelie\n",
       "1       3800.0            39.5  Female  Adelie\n",
       "2       3250.0            40.3  Female  Adelie\n",
       "4       3450.0            36.7  Female  Adelie\n",
       "5       3650.0            39.3    Male  Adelie"
      ]
     },
     "execution_count": 4,
     "metadata": {},
     "output_type": "execute_result"
    }
   ],
   "source": [
    "penguins.head()"
   ]
  },
  {
   "cell_type": "code",
   "execution_count": 5,
   "id": "119e10db",
   "metadata": {},
   "outputs": [],
   "source": [
    "# divide data into X variable and Y variable\n",
    "penguins_X = penguins[[\"bill_length_mm\", \"gender\", \"species\"]]\n",
    "penguins_y = penguins[[\"body_mass_g\"]]"
   ]
  },
  {
   "cell_type": "code",
   "execution_count": 6,
   "id": "fffd5db3",
   "metadata": {},
   "outputs": [],
   "source": [
    "from sklearn.model_selection import train_test_split\n",
    "\n",
    "X_train, X_test, y_train, y_test = train_test_split(penguins_X, penguins_y, test_size = 0.3, random_state = 42)"
   ]
  },
  {
   "cell_type": "code",
   "execution_count": 7,
   "id": "4b5c3276",
   "metadata": {},
   "outputs": [],
   "source": [
    "from statsmodels.formula.api import ols\n",
    "\n",
    "ols_formula = \"body_mass_g ~ bill_length_mm + C(gender) + C(species)\"\n",
    "ols_data = pd.concat([X_train, y_train], axis=1)\n",
    "\n",
    "OLS = ols(formula = ols_formula, data = ols_data)"
   ]
  },
  {
   "cell_type": "code",
   "execution_count": 8,
   "id": "1cf37f6a",
   "metadata": {},
   "outputs": [],
   "source": [
    "model = OLS.fit()"
   ]
  },
  {
   "cell_type": "code",
   "execution_count": 9,
   "id": "6aeb8e08",
   "metadata": {},
   "outputs": [
    {
     "data": {
      "text/html": [
       "<table class=\"simpletable\">\n",
       "<caption>OLS Regression Results</caption>\n",
       "<tr>\n",
       "  <th>Dep. Variable:</th>       <td>body_mass_g</td>   <th>  R-squared:         </th> <td>   0.850</td>\n",
       "</tr>\n",
       "<tr>\n",
       "  <th>Model:</th>                   <td>OLS</td>       <th>  Adj. R-squared:    </th> <td>   0.847</td>\n",
       "</tr>\n",
       "<tr>\n",
       "  <th>Method:</th>             <td>Least Squares</td>  <th>  F-statistic:       </th> <td>   322.6</td>\n",
       "</tr>\n",
       "<tr>\n",
       "  <th>Date:</th>             <td>Wed, 11 Oct 2023</td> <th>  Prob (F-statistic):</th> <td>1.31e-92</td>\n",
       "</tr>\n",
       "<tr>\n",
       "  <th>Time:</th>                 <td>22:32:35</td>     <th>  Log-Likelihood:    </th> <td> -1671.7</td>\n",
       "</tr>\n",
       "<tr>\n",
       "  <th>No. Observations:</th>      <td>   233</td>      <th>  AIC:               </th> <td>   3353.</td>\n",
       "</tr>\n",
       "<tr>\n",
       "  <th>Df Residuals:</th>          <td>   228</td>      <th>  BIC:               </th> <td>   3371.</td>\n",
       "</tr>\n",
       "<tr>\n",
       "  <th>Df Model:</th>              <td>     4</td>      <th>                     </th>     <td> </td>   \n",
       "</tr>\n",
       "<tr>\n",
       "  <th>Covariance Type:</th>      <td>nonrobust</td>    <th>                     </th>     <td> </td>   \n",
       "</tr>\n",
       "</table>\n",
       "<table class=\"simpletable\">\n",
       "<tr>\n",
       "             <td></td>                <th>coef</th>     <th>std err</th>      <th>t</th>      <th>P>|t|</th>  <th>[0.025</th>    <th>0.975]</th>  \n",
       "</tr>\n",
       "<tr>\n",
       "  <th>Intercept</th>               <td> 2032.2111</td> <td>  354.087</td> <td>    5.739</td> <td> 0.000</td> <td> 1334.510</td> <td> 2729.913</td>\n",
       "</tr>\n",
       "<tr>\n",
       "  <th>C(gender)[T.Male]</th>       <td>  528.9508</td> <td>   55.105</td> <td>    9.599</td> <td> 0.000</td> <td>  420.371</td> <td>  637.531</td>\n",
       "</tr>\n",
       "<tr>\n",
       "  <th>C(species)[T.Chinstrap]</th> <td> -285.3865</td> <td>  106.339</td> <td>   -2.684</td> <td> 0.008</td> <td> -494.920</td> <td>  -75.853</td>\n",
       "</tr>\n",
       "<tr>\n",
       "  <th>C(species)[T.Gentoo]</th>    <td> 1081.6246</td> <td>   94.953</td> <td>   11.391</td> <td> 0.000</td> <td>  894.526</td> <td> 1268.723</td>\n",
       "</tr>\n",
       "<tr>\n",
       "  <th>bill_length_mm</th>          <td>   35.5505</td> <td>    9.493</td> <td>    3.745</td> <td> 0.000</td> <td>   16.845</td> <td>   54.256</td>\n",
       "</tr>\n",
       "</table>\n",
       "<table class=\"simpletable\">\n",
       "<tr>\n",
       "  <th>Omnibus:</th>       <td> 0.339</td> <th>  Durbin-Watson:     </th> <td>   1.948</td>\n",
       "</tr>\n",
       "<tr>\n",
       "  <th>Prob(Omnibus):</th> <td> 0.844</td> <th>  Jarque-Bera (JB):  </th> <td>   0.436</td>\n",
       "</tr>\n",
       "<tr>\n",
       "  <th>Skew:</th>          <td> 0.084</td> <th>  Prob(JB):          </th> <td>   0.804</td>\n",
       "</tr>\n",
       "<tr>\n",
       "  <th>Kurtosis:</th>      <td> 2.871</td> <th>  Cond. No.          </th> <td>    798.</td>\n",
       "</tr>\n",
       "</table><br/><br/>Notes:<br/>[1] Standard Errors assume that the covariance matrix of the errors is correctly specified."
      ],
      "text/latex": [
       "\\begin{center}\n",
       "\\begin{tabular}{lclc}\n",
       "\\toprule\n",
       "\\textbf{Dep. Variable:}          &  body\\_mass\\_g   & \\textbf{  R-squared:         } &     0.850   \\\\\n",
       "\\textbf{Model:}                  &       OLS        & \\textbf{  Adj. R-squared:    } &     0.847   \\\\\n",
       "\\textbf{Method:}                 &  Least Squares   & \\textbf{  F-statistic:       } &     322.6   \\\\\n",
       "\\textbf{Date:}                   & Wed, 11 Oct 2023 & \\textbf{  Prob (F-statistic):} &  1.31e-92   \\\\\n",
       "\\textbf{Time:}                   &     22:32:35     & \\textbf{  Log-Likelihood:    } &   -1671.7   \\\\\n",
       "\\textbf{No. Observations:}       &         233      & \\textbf{  AIC:               } &     3353.   \\\\\n",
       "\\textbf{Df Residuals:}           &         228      & \\textbf{  BIC:               } &     3371.   \\\\\n",
       "\\textbf{Df Model:}               &           4      & \\textbf{                     } &             \\\\\n",
       "\\textbf{Covariance Type:}        &    nonrobust     & \\textbf{                     } &             \\\\\n",
       "\\bottomrule\n",
       "\\end{tabular}\n",
       "\\begin{tabular}{lcccccc}\n",
       "                                 & \\textbf{coef} & \\textbf{std err} & \\textbf{t} & \\textbf{P$> |$t$|$} & \\textbf{[0.025} & \\textbf{0.975]}  \\\\\n",
       "\\midrule\n",
       "\\textbf{Intercept}               &    2032.2111  &      354.087     &     5.739  &         0.000        &     1334.510    &     2729.913     \\\\\n",
       "\\textbf{C(gender)[T.Male]}       &     528.9508  &       55.105     &     9.599  &         0.000        &      420.371    &      637.531     \\\\\n",
       "\\textbf{C(species)[T.Chinstrap]} &    -285.3865  &      106.339     &    -2.684  &         0.008        &     -494.920    &      -75.853     \\\\\n",
       "\\textbf{C(species)[T.Gentoo]}    &    1081.6246  &       94.953     &    11.391  &         0.000        &      894.526    &     1268.723     \\\\\n",
       "\\textbf{bill\\_length\\_mm}        &      35.5505  &        9.493     &     3.745  &         0.000        &       16.845    &       54.256     \\\\\n",
       "\\bottomrule\n",
       "\\end{tabular}\n",
       "\\begin{tabular}{lclc}\n",
       "\\textbf{Omnibus:}       &  0.339 & \\textbf{  Durbin-Watson:     } &    1.948  \\\\\n",
       "\\textbf{Prob(Omnibus):} &  0.844 & \\textbf{  Jarque-Bera (JB):  } &    0.436  \\\\\n",
       "\\textbf{Skew:}          &  0.084 & \\textbf{  Prob(JB):          } &    0.804  \\\\\n",
       "\\textbf{Kurtosis:}      &  2.871 & \\textbf{  Cond. No.          } &     798.  \\\\\n",
       "\\bottomrule\n",
       "\\end{tabular}\n",
       "%\\caption{OLS Regression Results}\n",
       "\\end{center}\n",
       "\n",
       "Notes: \\newline\n",
       " [1] Standard Errors assume that the covariance matrix of the errors is correctly specified."
      ],
      "text/plain": [
       "<class 'statsmodels.iolib.summary.Summary'>\n",
       "\"\"\"\n",
       "                            OLS Regression Results                            \n",
       "==============================================================================\n",
       "Dep. Variable:            body_mass_g   R-squared:                       0.850\n",
       "Model:                            OLS   Adj. R-squared:                  0.847\n",
       "Method:                 Least Squares   F-statistic:                     322.6\n",
       "Date:                Wed, 11 Oct 2023   Prob (F-statistic):           1.31e-92\n",
       "Time:                        22:32:35   Log-Likelihood:                -1671.7\n",
       "No. Observations:                 233   AIC:                             3353.\n",
       "Df Residuals:                     228   BIC:                             3371.\n",
       "Df Model:                           4                                         \n",
       "Covariance Type:            nonrobust                                         \n",
       "===========================================================================================\n",
       "                              coef    std err          t      P>|t|      [0.025      0.975]\n",
       "-------------------------------------------------------------------------------------------\n",
       "Intercept                2032.2111    354.087      5.739      0.000    1334.510    2729.913\n",
       "C(gender)[T.Male]         528.9508     55.105      9.599      0.000     420.371     637.531\n",
       "C(species)[T.Chinstrap]  -285.3865    106.339     -2.684      0.008    -494.920     -75.853\n",
       "C(species)[T.Gentoo]     1081.6246     94.953     11.391      0.000     894.526    1268.723\n",
       "bill_length_mm             35.5505      9.493      3.745      0.000      16.845      54.256\n",
       "==============================================================================\n",
       "Omnibus:                        0.339   Durbin-Watson:                   1.948\n",
       "Prob(Omnibus):                  0.844   Jarque-Bera (JB):                0.436\n",
       "Skew:                           0.084   Prob(JB):                        0.804\n",
       "Kurtosis:                       2.871   Cond. No.                         798.\n",
       "==============================================================================\n",
       "\n",
       "Notes:\n",
       "[1] Standard Errors assume that the covariance matrix of the errors is correctly specified.\n",
       "\"\"\""
      ]
     },
     "execution_count": 9,
     "metadata": {},
     "output_type": "execute_result"
    }
   ],
   "source": [
    "model.summary()"
   ]
  }
 ],
 "metadata": {
  "kernelspec": {
   "display_name": "Python 3 (ipykernel)",
   "language": "python",
   "name": "python3"
  },
  "language_info": {
   "codemirror_mode": {
    "name": "ipython",
    "version": 3
   },
   "file_extension": ".py",
   "mimetype": "text/x-python",
   "name": "python",
   "nbconvert_exporter": "python",
   "pygments_lexer": "ipython3",
   "version": "3.11.5"
  }
 },
 "nbformat": 4,
 "nbformat_minor": 5
}
